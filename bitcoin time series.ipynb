{
 "cells": [
  {
   "cell_type": "code",
   "execution_count": 20,
   "metadata": {},
   "outputs": [],
   "source": [
    "import pandas as pd\n",
    "import numpy as np\n",
    "import matplotlib.pyplot as plt\n",
    "%matplotlib inline\n",
    "\n",
    "from sklearn import ensemble,model_selection,preprocessing,tree"
   ]
  },
  {
   "cell_type": "code",
   "execution_count": 21,
   "metadata": {},
   "outputs": [],
   "source": [
    "data_bit = pd.read_csv('data/bitcoin_timestamp.csv')"
   ]
  },
  {
   "cell_type": "code",
   "execution_count": 22,
   "metadata": {},
   "outputs": [
    {
     "data": {
      "text/html": [
       "<div>\n",
       "<style scoped>\n",
       "    .dataframe tbody tr th:only-of-type {\n",
       "        vertical-align: middle;\n",
       "    }\n",
       "\n",
       "    .dataframe tbody tr th {\n",
       "        vertical-align: top;\n",
       "    }\n",
       "\n",
       "    .dataframe thead th {\n",
       "        text-align: right;\n",
       "    }\n",
       "</style>\n",
       "<table border=\"1\" class=\"dataframe\">\n",
       "  <thead>\n",
       "    <tr style=\"text-align: right;\">\n",
       "      <th></th>\n",
       "      <th>Timestamp</th>\n",
       "      <th>Open</th>\n",
       "      <th>High</th>\n",
       "      <th>Low</th>\n",
       "      <th>Close</th>\n",
       "      <th>Volume_(BTC)</th>\n",
       "      <th>Volume_(Currency)</th>\n",
       "      <th>Weighted_Price</th>\n",
       "    </tr>\n",
       "  </thead>\n",
       "  <tbody>\n",
       "    <tr>\n",
       "      <th>0</th>\n",
       "      <td>1325317920</td>\n",
       "      <td>4.39</td>\n",
       "      <td>4.39</td>\n",
       "      <td>4.39</td>\n",
       "      <td>4.39</td>\n",
       "      <td>0.455581</td>\n",
       "      <td>2.0</td>\n",
       "      <td>4.39</td>\n",
       "    </tr>\n",
       "    <tr>\n",
       "      <th>1</th>\n",
       "      <td>1325317980</td>\n",
       "      <td>4.39</td>\n",
       "      <td>4.39</td>\n",
       "      <td>4.39</td>\n",
       "      <td>4.39</td>\n",
       "      <td>0.455581</td>\n",
       "      <td>2.0</td>\n",
       "      <td>4.39</td>\n",
       "    </tr>\n",
       "    <tr>\n",
       "      <th>2</th>\n",
       "      <td>1325318040</td>\n",
       "      <td>4.39</td>\n",
       "      <td>4.39</td>\n",
       "      <td>4.39</td>\n",
       "      <td>4.39</td>\n",
       "      <td>0.455581</td>\n",
       "      <td>2.0</td>\n",
       "      <td>4.39</td>\n",
       "    </tr>\n",
       "    <tr>\n",
       "      <th>3</th>\n",
       "      <td>1325318100</td>\n",
       "      <td>4.39</td>\n",
       "      <td>4.39</td>\n",
       "      <td>4.39</td>\n",
       "      <td>4.39</td>\n",
       "      <td>0.455581</td>\n",
       "      <td>2.0</td>\n",
       "      <td>4.39</td>\n",
       "    </tr>\n",
       "    <tr>\n",
       "      <th>4</th>\n",
       "      <td>1325318160</td>\n",
       "      <td>4.39</td>\n",
       "      <td>4.39</td>\n",
       "      <td>4.39</td>\n",
       "      <td>4.39</td>\n",
       "      <td>0.455581</td>\n",
       "      <td>2.0</td>\n",
       "      <td>4.39</td>\n",
       "    </tr>\n",
       "  </tbody>\n",
       "</table>\n",
       "</div>"
      ],
      "text/plain": [
       "    Timestamp  Open  High   Low  Close  Volume_(BTC)  Volume_(Currency)  \\\n",
       "0  1325317920  4.39  4.39  4.39   4.39      0.455581                2.0   \n",
       "1  1325317980  4.39  4.39  4.39   4.39      0.455581                2.0   \n",
       "2  1325318040  4.39  4.39  4.39   4.39      0.455581                2.0   \n",
       "3  1325318100  4.39  4.39  4.39   4.39      0.455581                2.0   \n",
       "4  1325318160  4.39  4.39  4.39   4.39      0.455581                2.0   \n",
       "\n",
       "   Weighted_Price  \n",
       "0            4.39  \n",
       "1            4.39  \n",
       "2            4.39  \n",
       "3            4.39  \n",
       "4            4.39  "
      ]
     },
     "execution_count": 22,
     "metadata": {},
     "output_type": "execute_result"
    }
   ],
   "source": [
    "\"\"\"\n",
    "Volume_(Currency) is dollars\n",
    "predictive model that allows us to buy or sell bitcoin \n",
    "\"\"\"\n",
    "\n",
    "data_bit.head()"
   ]
  },
  {
   "cell_type": "code",
   "execution_count": 23,
   "metadata": {},
   "outputs": [
    {
     "data": {
      "text/plain": [
       "(21881, 8)"
      ]
     },
     "execution_count": 23,
     "metadata": {},
     "output_type": "execute_result"
    }
   ],
   "source": [
    "data_bit.shape"
   ]
  },
  {
   "cell_type": "code",
   "execution_count": 24,
   "metadata": {},
   "outputs": [
    {
     "data": {
      "text/plain": [
       "Timestamp              int64\n",
       "Open                 float64\n",
       "High                 float64\n",
       "Low                  float64\n",
       "Close                float64\n",
       "Volume_(BTC)         float64\n",
       "Volume_(Currency)    float64\n",
       "Weighted_Price       float64\n",
       "dtype: object"
      ]
     },
     "execution_count": 24,
     "metadata": {},
     "output_type": "execute_result"
    }
   ],
   "source": [
    "\"\"\"\n",
    "Timestamp is an int. everything else is a float\n",
    "\"\"\"\n",
    "data_bit.dtypes"
   ]
  },
  {
   "cell_type": "code",
   "execution_count": 25,
   "metadata": {},
   "outputs": [
    {
     "data": {
      "text/plain": [
       "0       2011-12-31 07:52:00\n",
       "1       2011-12-31 07:53:00\n",
       "2       2011-12-31 07:54:00\n",
       "3       2011-12-31 07:55:00\n",
       "4       2011-12-31 07:56:00\n",
       "5       2011-12-31 07:57:00\n",
       "6       2011-12-31 07:58:00\n",
       "7       2011-12-31 07:59:00\n",
       "8       2011-12-31 08:00:00\n",
       "9       2011-12-31 08:01:00\n",
       "10      2011-12-31 08:02:00\n",
       "11      2011-12-31 08:03:00\n",
       "12      2011-12-31 08:04:00\n",
       "13      2011-12-31 08:05:00\n",
       "14      2011-12-31 08:06:00\n",
       "15      2011-12-31 08:07:00\n",
       "16      2011-12-31 08:08:00\n",
       "17      2011-12-31 08:09:00\n",
       "18      2011-12-31 08:10:00\n",
       "19      2011-12-31 08:11:00\n",
       "20      2011-12-31 08:12:00\n",
       "21      2011-12-31 08:13:00\n",
       "22      2011-12-31 08:14:00\n",
       "23      2011-12-31 08:15:00\n",
       "24      2011-12-31 08:16:00\n",
       "25      2011-12-31 08:17:00\n",
       "26      2011-12-31 08:18:00\n",
       "27      2011-12-31 08:19:00\n",
       "28      2011-12-31 08:20:00\n",
       "29      2011-12-31 08:21:00\n",
       "                ...        \n",
       "21851   2012-01-15 12:03:00\n",
       "21852   2012-01-15 12:04:00\n",
       "21853   2012-01-15 12:05:00\n",
       "21854   2012-01-15 12:06:00\n",
       "21855   2012-01-15 12:07:00\n",
       "21856   2012-01-15 12:08:00\n",
       "21857   2012-01-15 12:09:00\n",
       "21858   2012-01-15 12:10:00\n",
       "21859   2012-01-15 12:11:00\n",
       "21860   2012-01-15 12:12:00\n",
       "21861   2012-01-15 12:13:00\n",
       "21862   2012-01-15 12:14:00\n",
       "21863   2012-01-15 12:15:00\n",
       "21864   2012-01-15 12:16:00\n",
       "21865   2012-01-15 12:17:00\n",
       "21866   2012-01-15 12:18:00\n",
       "21867   2012-01-15 12:19:00\n",
       "21868   2012-01-15 12:20:00\n",
       "21869   2012-01-15 12:21:00\n",
       "21870   2012-01-15 12:22:00\n",
       "21871   2012-01-15 12:23:00\n",
       "21872   2012-01-15 12:24:00\n",
       "21873   2012-01-15 12:25:00\n",
       "21874   2012-01-15 12:26:00\n",
       "21875   2012-01-15 12:27:00\n",
       "21876   2012-01-15 12:28:00\n",
       "21877   2012-01-15 12:29:00\n",
       "21878   2012-01-15 12:30:00\n",
       "21879   2012-01-15 12:31:00\n",
       "21880   2012-01-15 12:32:00\n",
       "Name: Timestamp, Length: 21881, dtype: datetime64[ns]"
      ]
     },
     "execution_count": 25,
     "metadata": {},
     "output_type": "execute_result"
    }
   ],
   "source": [
    "\"\"\"\n",
    "this is now a datatime series\n",
    "\"\"\"\n",
    "pd.to_datetime(data_bit.Timestamp, unit='s')"
   ]
  },
  {
   "cell_type": "code",
   "execution_count": 26,
   "metadata": {},
   "outputs": [],
   "source": [
    "data_bit['date'] = pd.to_datetime(data_bit.Timestamp, unit='s')"
   ]
  },
  {
   "cell_type": "code",
   "execution_count": 28,
   "metadata": {},
   "outputs": [
    {
     "name": "stdout",
     "output_type": "stream",
     "text": [
      "CPU times: user 4 µs, sys: 1 µs, total: 5 µs\n",
      "Wall time: 10 µs\n"
     ]
    },
    {
     "data": {
      "text/html": [
       "<div>\n",
       "<style scoped>\n",
       "    .dataframe tbody tr th:only-of-type {\n",
       "        vertical-align: middle;\n",
       "    }\n",
       "\n",
       "    .dataframe tbody tr th {\n",
       "        vertical-align: top;\n",
       "    }\n",
       "\n",
       "    .dataframe thead th {\n",
       "        text-align: right;\n",
       "    }\n",
       "</style>\n",
       "<table border=\"1\" class=\"dataframe\">\n",
       "  <thead>\n",
       "    <tr style=\"text-align: right;\">\n",
       "      <th></th>\n",
       "      <th>Timestamp</th>\n",
       "      <th>Open</th>\n",
       "      <th>High</th>\n",
       "      <th>Low</th>\n",
       "      <th>Close</th>\n",
       "      <th>Volume_(BTC)</th>\n",
       "      <th>Volume_(Currency)</th>\n",
       "      <th>Weighted_Price</th>\n",
       "      <th>date</th>\n",
       "    </tr>\n",
       "  </thead>\n",
       "  <tbody>\n",
       "    <tr>\n",
       "      <th>0</th>\n",
       "      <td>1325317920</td>\n",
       "      <td>4.39</td>\n",
       "      <td>4.39</td>\n",
       "      <td>4.39</td>\n",
       "      <td>4.39</td>\n",
       "      <td>0.455581</td>\n",
       "      <td>2.0</td>\n",
       "      <td>4.39</td>\n",
       "      <td>2011-12-31 07:52:00</td>\n",
       "    </tr>\n",
       "    <tr>\n",
       "      <th>1</th>\n",
       "      <td>1325317980</td>\n",
       "      <td>4.39</td>\n",
       "      <td>4.39</td>\n",
       "      <td>4.39</td>\n",
       "      <td>4.39</td>\n",
       "      <td>0.455581</td>\n",
       "      <td>2.0</td>\n",
       "      <td>4.39</td>\n",
       "      <td>2011-12-31 07:53:00</td>\n",
       "    </tr>\n",
       "  </tbody>\n",
       "</table>\n",
       "</div>"
      ],
      "text/plain": [
       "    Timestamp  Open  High   Low  Close  Volume_(BTC)  Volume_(Currency)  \\\n",
       "0  1325317920  4.39  4.39  4.39   4.39      0.455581                2.0   \n",
       "1  1325317980  4.39  4.39  4.39   4.39      0.455581                2.0   \n",
       "\n",
       "   Weighted_Price                date  \n",
       "0            4.39 2011-12-31 07:52:00  \n",
       "1            4.39 2011-12-31 07:53:00  "
      ]
     },
     "execution_count": 28,
     "metadata": {},
     "output_type": "execute_result"
    }
   ],
   "source": [
    "%time\n",
    "data_bit.head(2)"
   ]
  },
  {
   "cell_type": "code",
   "execution_count": 30,
   "metadata": {},
   "outputs": [
    {
     "data": {
      "text/plain": [
       "Index(['Timestamp', 'Open', 'High', 'Low', 'Close', 'Volume_(BTC)',\n",
       "       'Volume_(Currency)', 'Weighted_Price', 'date'],\n",
       "      dtype='object')"
      ]
     },
     "execution_count": 30,
     "metadata": {},
     "output_type": "execute_result"
    }
   ],
   "source": [
    "data_bit.columns"
   ]
  },
  {
   "cell_type": "code",
   "execution_count": 48,
   "metadata": {},
   "outputs": [],
   "source": [
    "bitcoin_data = data_bit.copy()"
   ]
  },
  {
   "cell_type": "code",
   "execution_count": 49,
   "metadata": {},
   "outputs": [
    {
     "data": {
      "text/html": [
       "<div>\n",
       "<style scoped>\n",
       "    .dataframe tbody tr th:only-of-type {\n",
       "        vertical-align: middle;\n",
       "    }\n",
       "\n",
       "    .dataframe tbody tr th {\n",
       "        vertical-align: top;\n",
       "    }\n",
       "\n",
       "    .dataframe thead th {\n",
       "        text-align: right;\n",
       "    }\n",
       "</style>\n",
       "<table border=\"1\" class=\"dataframe\">\n",
       "  <thead>\n",
       "    <tr style=\"text-align: right;\">\n",
       "      <th></th>\n",
       "      <th>Timestamp</th>\n",
       "      <th>Open</th>\n",
       "      <th>High</th>\n",
       "      <th>Low</th>\n",
       "      <th>Close</th>\n",
       "      <th>Volume_(BTC)</th>\n",
       "      <th>Volume_(Currency)</th>\n",
       "      <th>Weighted_Price</th>\n",
       "      <th>date</th>\n",
       "    </tr>\n",
       "  </thead>\n",
       "  <tbody>\n",
       "    <tr>\n",
       "      <th>0</th>\n",
       "      <td>1325317920</td>\n",
       "      <td>4.39</td>\n",
       "      <td>4.39</td>\n",
       "      <td>4.39</td>\n",
       "      <td>4.39</td>\n",
       "      <td>0.455581</td>\n",
       "      <td>2.0</td>\n",
       "      <td>4.39</td>\n",
       "      <td>2011-12-31 07:52:00</td>\n",
       "    </tr>\n",
       "    <tr>\n",
       "      <th>1</th>\n",
       "      <td>1325317980</td>\n",
       "      <td>4.39</td>\n",
       "      <td>4.39</td>\n",
       "      <td>4.39</td>\n",
       "      <td>4.39</td>\n",
       "      <td>0.455581</td>\n",
       "      <td>2.0</td>\n",
       "      <td>4.39</td>\n",
       "      <td>2011-12-31 07:53:00</td>\n",
       "    </tr>\n",
       "    <tr>\n",
       "      <th>2</th>\n",
       "      <td>1325318040</td>\n",
       "      <td>4.39</td>\n",
       "      <td>4.39</td>\n",
       "      <td>4.39</td>\n",
       "      <td>4.39</td>\n",
       "      <td>0.455581</td>\n",
       "      <td>2.0</td>\n",
       "      <td>4.39</td>\n",
       "      <td>2011-12-31 07:54:00</td>\n",
       "    </tr>\n",
       "    <tr>\n",
       "      <th>3</th>\n",
       "      <td>1325318100</td>\n",
       "      <td>4.39</td>\n",
       "      <td>4.39</td>\n",
       "      <td>4.39</td>\n",
       "      <td>4.39</td>\n",
       "      <td>0.455581</td>\n",
       "      <td>2.0</td>\n",
       "      <td>4.39</td>\n",
       "      <td>2011-12-31 07:55:00</td>\n",
       "    </tr>\n",
       "    <tr>\n",
       "      <th>4</th>\n",
       "      <td>1325318160</td>\n",
       "      <td>4.39</td>\n",
       "      <td>4.39</td>\n",
       "      <td>4.39</td>\n",
       "      <td>4.39</td>\n",
       "      <td>0.455581</td>\n",
       "      <td>2.0</td>\n",
       "      <td>4.39</td>\n",
       "      <td>2011-12-31 07:56:00</td>\n",
       "    </tr>\n",
       "  </tbody>\n",
       "</table>\n",
       "</div>"
      ],
      "text/plain": [
       "    Timestamp  Open  High   Low  Close  Volume_(BTC)  Volume_(Currency)  \\\n",
       "0  1325317920  4.39  4.39  4.39   4.39      0.455581                2.0   \n",
       "1  1325317980  4.39  4.39  4.39   4.39      0.455581                2.0   \n",
       "2  1325318040  4.39  4.39  4.39   4.39      0.455581                2.0   \n",
       "3  1325318100  4.39  4.39  4.39   4.39      0.455581                2.0   \n",
       "4  1325318160  4.39  4.39  4.39   4.39      0.455581                2.0   \n",
       "\n",
       "   Weighted_Price                date  \n",
       "0            4.39 2011-12-31 07:52:00  \n",
       "1            4.39 2011-12-31 07:53:00  \n",
       "2            4.39 2011-12-31 07:54:00  \n",
       "3            4.39 2011-12-31 07:55:00  \n",
       "4            4.39 2011-12-31 07:56:00  "
      ]
     },
     "execution_count": 49,
     "metadata": {},
     "output_type": "execute_result"
    }
   ],
   "source": [
    "bitcoin_data.head()"
   ]
  },
  {
   "cell_type": "code",
   "execution_count": 60,
   "metadata": {},
   "outputs": [],
   "source": [
    " \"\"\"\n",
    "this now has a data index\n",
    "data is no longer on minute granularity. It's now on day\n",
    "\"\"\"\n",
    "bit_df = (\n",
    "bitcoin_data.set_index('date')\n",
    "    .rename(columns={'Open':'open', 'High':'high', 'Low':'low', 'Close':'close', 'Volume_(BTC)':'vol_btc',\n",
    "       'Volume_(Currency)':'vol_cur', 'Weighted_Price': 'wp','Timestamp':'ts'})\n",
    "    .resample('d') \n",
    "    .agg({'open':'first','high':'mean','low':'mean', 'close':'last','vol_btc':'sum','vol_cur':'sum','wp':'mean', 'ts':'min'})\n",
    "    \n",
    ")   "
   ]
  },
  {
   "cell_type": "code",
   "execution_count": 61,
   "metadata": {},
   "outputs": [
    {
     "data": {
      "text/plain": [
       "Index(['open', 'high', 'low', 'close', 'vol_btc', 'vol_cur', 'wp', 'ts'], dtype='object')"
      ]
     },
     "execution_count": 61,
     "metadata": {},
     "output_type": "execute_result"
    }
   ],
   "source": [
    "bit_df.columns"
   ]
  },
  {
   "cell_type": "code",
   "execution_count": 62,
   "metadata": {},
   "outputs": [
    {
     "name": "stdout",
     "output_type": "stream",
     "text": [
      "<class 'pandas.core.frame.DataFrame'>\n",
      "DatetimeIndex: 16 entries, 2011-12-31 to 2012-01-15\n",
      "Freq: D\n",
      "Data columns (total 8 columns):\n",
      "open       16 non-null float64\n",
      "high       16 non-null float64\n",
      "low        16 non-null float64\n",
      "close      16 non-null float64\n",
      "vol_btc    16 non-null float64\n",
      "vol_cur    16 non-null float64\n",
      "wp         16 non-null float64\n",
      "ts         16 non-null int64\n",
      "dtypes: float64(7), int64(1)\n",
      "memory usage: 1.8 KB\n"
     ]
    }
   ],
   "source": [
    "bit_df.info()"
   ]
  },
  {
   "cell_type": "code",
   "execution_count": 82,
   "metadata": {},
   "outputs": [],
   "source": [
    "\"\"\"\n",
    "make column for buying, using shift operator\n",
    "everything enclosed moved up 1\n",
    "is the close tomorrow better or worse than today\n",
    "is the closr of the next day, greater than close of today\n",
    "buy or sell based on close\n",
    "\"\"\"\n",
    "bit_buy = bit_df.assign(buy = lambda x: (x.close.shift(-1) > x.close).astype(int))"
   ]
  },
  {
   "cell_type": "code",
   "execution_count": 83,
   "metadata": {},
   "outputs": [
    {
     "data": {
      "text/html": [
       "<div>\n",
       "<style scoped>\n",
       "    .dataframe tbody tr th:only-of-type {\n",
       "        vertical-align: middle;\n",
       "    }\n",
       "\n",
       "    .dataframe tbody tr th {\n",
       "        vertical-align: top;\n",
       "    }\n",
       "\n",
       "    .dataframe thead th {\n",
       "        text-align: right;\n",
       "    }\n",
       "</style>\n",
       "<table border=\"1\" class=\"dataframe\">\n",
       "  <thead>\n",
       "    <tr style=\"text-align: right;\">\n",
       "      <th></th>\n",
       "      <th>open</th>\n",
       "      <th>high</th>\n",
       "      <th>low</th>\n",
       "      <th>close</th>\n",
       "      <th>vol_btc</th>\n",
       "      <th>vol_cur</th>\n",
       "      <th>wp</th>\n",
       "      <th>ts</th>\n",
       "      <th>buy</th>\n",
       "    </tr>\n",
       "    <tr>\n",
       "      <th>date</th>\n",
       "      <th></th>\n",
       "      <th></th>\n",
       "      <th></th>\n",
       "      <th></th>\n",
       "      <th></th>\n",
       "      <th></th>\n",
       "      <th></th>\n",
       "      <th></th>\n",
       "      <th></th>\n",
       "    </tr>\n",
       "  </thead>\n",
       "  <tbody>\n",
       "    <tr>\n",
       "      <th>2011-12-31</th>\n",
       "      <td>4.39</td>\n",
       "      <td>4.472624</td>\n",
       "      <td>4.472552</td>\n",
       "      <td>4.58</td>\n",
       "      <td>7347.629953</td>\n",
       "      <td>32979.460347</td>\n",
       "      <td>4.472579</td>\n",
       "      <td>1325317920</td>\n",
       "      <td>1</td>\n",
       "    </tr>\n",
       "    <tr>\n",
       "      <th>2012-01-01</th>\n",
       "      <td>4.58</td>\n",
       "      <td>4.680778</td>\n",
       "      <td>4.680778</td>\n",
       "      <td>5.00</td>\n",
       "      <td>8440.844000</td>\n",
       "      <td>40113.415520</td>\n",
       "      <td>4.680778</td>\n",
       "      <td>1325376000</td>\n",
       "      <td>0</td>\n",
       "    </tr>\n",
       "    <tr>\n",
       "      <th>2012-01-02</th>\n",
       "      <td>5.00</td>\n",
       "      <td>5.000000</td>\n",
       "      <td>5.000000</td>\n",
       "      <td>5.00</td>\n",
       "      <td>16655.728000</td>\n",
       "      <td>83278.640000</td>\n",
       "      <td>5.000000</td>\n",
       "      <td>1325462400</td>\n",
       "      <td>1</td>\n",
       "    </tr>\n",
       "    <tr>\n",
       "      <th>2012-01-03</th>\n",
       "      <td>5.00</td>\n",
       "      <td>5.145917</td>\n",
       "      <td>5.145917</td>\n",
       "      <td>5.29</td>\n",
       "      <td>19448.819802</td>\n",
       "      <td>98964.563352</td>\n",
       "      <td>5.145917</td>\n",
       "      <td>1325548800</td>\n",
       "      <td>1</td>\n",
       "    </tr>\n",
       "    <tr>\n",
       "      <th>2012-01-04</th>\n",
       "      <td>5.29</td>\n",
       "      <td>5.228729</td>\n",
       "      <td>5.176708</td>\n",
       "      <td>5.57</td>\n",
       "      <td>24798.296265</td>\n",
       "      <td>131938.688442</td>\n",
       "      <td>5.195443</td>\n",
       "      <td>1325635200</td>\n",
       "      <td>1</td>\n",
       "    </tr>\n",
       "    <tr>\n",
       "      <th>2012-01-05</th>\n",
       "      <td>5.37</td>\n",
       "      <td>6.134917</td>\n",
       "      <td>6.116778</td>\n",
       "      <td>6.65</td>\n",
       "      <td>9102.080979</td>\n",
       "      <td>51820.276320</td>\n",
       "      <td>6.124426</td>\n",
       "      <td>1325721600</td>\n",
       "      <td>0</td>\n",
       "    </tr>\n",
       "    <tr>\n",
       "      <th>2012-01-06</th>\n",
       "      <td>6.65</td>\n",
       "      <td>6.551583</td>\n",
       "      <td>6.531069</td>\n",
       "      <td>6.00</td>\n",
       "      <td>5331.130797</td>\n",
       "      <td>35437.650812</td>\n",
       "      <td>6.540973</td>\n",
       "      <td>1325808000</td>\n",
       "      <td>1</td>\n",
       "    </tr>\n",
       "    <tr>\n",
       "      <th>2012-01-07</th>\n",
       "      <td>6.00</td>\n",
       "      <td>6.192222</td>\n",
       "      <td>6.192222</td>\n",
       "      <td>6.80</td>\n",
       "      <td>1196.366865</td>\n",
       "      <td>7260.094679</td>\n",
       "      <td>6.192222</td>\n",
       "      <td>1325894400</td>\n",
       "      <td>1</td>\n",
       "    </tr>\n",
       "    <tr>\n",
       "      <th>2012-01-08</th>\n",
       "      <td>6.80</td>\n",
       "      <td>6.842292</td>\n",
       "      <td>6.842292</td>\n",
       "      <td>7.00</td>\n",
       "      <td>2487.437871</td>\n",
       "      <td>17140.777526</td>\n",
       "      <td>6.842292</td>\n",
       "      <td>1325980800</td>\n",
       "      <td>0</td>\n",
       "    </tr>\n",
       "    <tr>\n",
       "      <th>2012-01-09</th>\n",
       "      <td>7.00</td>\n",
       "      <td>6.713125</td>\n",
       "      <td>6.685375</td>\n",
       "      <td>6.30</td>\n",
       "      <td>4029.296594</td>\n",
       "      <td>27271.741121</td>\n",
       "      <td>6.697618</td>\n",
       "      <td>1326067200</td>\n",
       "      <td>1</td>\n",
       "    </tr>\n",
       "    <tr>\n",
       "      <th>2012-01-10</th>\n",
       "      <td>6.30</td>\n",
       "      <td>6.558201</td>\n",
       "      <td>6.558201</td>\n",
       "      <td>7.14</td>\n",
       "      <td>1616.678808</td>\n",
       "      <td>10614.682785</td>\n",
       "      <td>6.558201</td>\n",
       "      <td>1326153600</td>\n",
       "      <td>0</td>\n",
       "    </tr>\n",
       "    <tr>\n",
       "      <th>2012-01-11</th>\n",
       "      <td>7.14</td>\n",
       "      <td>7.007750</td>\n",
       "      <td>7.004924</td>\n",
       "      <td>7.00</td>\n",
       "      <td>5354.634968</td>\n",
       "      <td>37841.591257</td>\n",
       "      <td>7.006282</td>\n",
       "      <td>1326240000</td>\n",
       "      <td>0</td>\n",
       "    </tr>\n",
       "    <tr>\n",
       "      <th>2012-01-12</th>\n",
       "      <td>7.00</td>\n",
       "      <td>6.877167</td>\n",
       "      <td>6.877167</td>\n",
       "      <td>6.51</td>\n",
       "      <td>9114.146007</td>\n",
       "      <td>64450.680426</td>\n",
       "      <td>6.877167</td>\n",
       "      <td>1326326400</td>\n",
       "      <td>1</td>\n",
       "    </tr>\n",
       "    <tr>\n",
       "      <th>2012-01-13</th>\n",
       "      <td>6.51</td>\n",
       "      <td>6.772583</td>\n",
       "      <td>6.754069</td>\n",
       "      <td>6.60</td>\n",
       "      <td>1431.151745</td>\n",
       "      <td>9685.835171</td>\n",
       "      <td>6.760737</td>\n",
       "      <td>1326412800</td>\n",
       "      <td>0</td>\n",
       "    </tr>\n",
       "    <tr>\n",
       "      <th>2012-01-14</th>\n",
       "      <td>6.60</td>\n",
       "      <td>6.475347</td>\n",
       "      <td>6.393889</td>\n",
       "      <td>6.30</td>\n",
       "      <td>2140.241478</td>\n",
       "      <td>13789.274822</td>\n",
       "      <td>6.427134</td>\n",
       "      <td>1326499200</td>\n",
       "      <td>1</td>\n",
       "    </tr>\n",
       "    <tr>\n",
       "      <th>2012-01-15</th>\n",
       "      <td>6.30</td>\n",
       "      <td>6.444489</td>\n",
       "      <td>6.444489</td>\n",
       "      <td>7.15</td>\n",
       "      <td>283.135976</td>\n",
       "      <td>1911.496173</td>\n",
       "      <td>6.444489</td>\n",
       "      <td>1326585600</td>\n",
       "      <td>0</td>\n",
       "    </tr>\n",
       "  </tbody>\n",
       "</table>\n",
       "</div>"
      ],
      "text/plain": [
       "            open      high       low  close       vol_btc        vol_cur  \\\n",
       "date                                                                       \n",
       "2011-12-31  4.39  4.472624  4.472552   4.58   7347.629953   32979.460347   \n",
       "2012-01-01  4.58  4.680778  4.680778   5.00   8440.844000   40113.415520   \n",
       "2012-01-02  5.00  5.000000  5.000000   5.00  16655.728000   83278.640000   \n",
       "2012-01-03  5.00  5.145917  5.145917   5.29  19448.819802   98964.563352   \n",
       "2012-01-04  5.29  5.228729  5.176708   5.57  24798.296265  131938.688442   \n",
       "2012-01-05  5.37  6.134917  6.116778   6.65   9102.080979   51820.276320   \n",
       "2012-01-06  6.65  6.551583  6.531069   6.00   5331.130797   35437.650812   \n",
       "2012-01-07  6.00  6.192222  6.192222   6.80   1196.366865    7260.094679   \n",
       "2012-01-08  6.80  6.842292  6.842292   7.00   2487.437871   17140.777526   \n",
       "2012-01-09  7.00  6.713125  6.685375   6.30   4029.296594   27271.741121   \n",
       "2012-01-10  6.30  6.558201  6.558201   7.14   1616.678808   10614.682785   \n",
       "2012-01-11  7.14  7.007750  7.004924   7.00   5354.634968   37841.591257   \n",
       "2012-01-12  7.00  6.877167  6.877167   6.51   9114.146007   64450.680426   \n",
       "2012-01-13  6.51  6.772583  6.754069   6.60   1431.151745    9685.835171   \n",
       "2012-01-14  6.60  6.475347  6.393889   6.30   2140.241478   13789.274822   \n",
       "2012-01-15  6.30  6.444489  6.444489   7.15    283.135976    1911.496173   \n",
       "\n",
       "                  wp          ts  buy  \n",
       "date                                   \n",
       "2011-12-31  4.472579  1325317920    1  \n",
       "2012-01-01  4.680778  1325376000    0  \n",
       "2012-01-02  5.000000  1325462400    1  \n",
       "2012-01-03  5.145917  1325548800    1  \n",
       "2012-01-04  5.195443  1325635200    1  \n",
       "2012-01-05  6.124426  1325721600    0  \n",
       "2012-01-06  6.540973  1325808000    1  \n",
       "2012-01-07  6.192222  1325894400    1  \n",
       "2012-01-08  6.842292  1325980800    0  \n",
       "2012-01-09  6.697618  1326067200    1  \n",
       "2012-01-10  6.558201  1326153600    0  \n",
       "2012-01-11  7.006282  1326240000    0  \n",
       "2012-01-12  6.877167  1326326400    1  \n",
       "2012-01-13  6.760737  1326412800    0  \n",
       "2012-01-14  6.427134  1326499200    1  \n",
       "2012-01-15  6.444489  1326585600    0  "
      ]
     },
     "execution_count": 83,
     "metadata": {},
     "output_type": "execute_result"
    }
   ],
   "source": [
    "bit_buy"
   ]
  },
  {
   "cell_type": "markdown",
   "metadata": {},
   "source": [
    "Random Forest"
   ]
  },
  {
   "cell_type": "code",
   "execution_count": 85,
   "metadata": {},
   "outputs": [],
   "source": [
    "\"\"\"\n",
    "make a bunch of deicion trees, is this true, if yes\n",
    "   at teh end of path, should you buy or sell bitcoin\n",
    "\n",
    "\"\"\"\n",
    "X = bit_buy.drop('buy',axis=1)\n",
    "y = bit_buy['buy']"
   ]
  },
  {
   "cell_type": "code",
   "execution_count": 86,
   "metadata": {},
   "outputs": [
    {
     "name": "stdout",
     "output_type": "stream",
     "text": [
      "(16, 8)\n",
      "(16,)\n"
     ]
    }
   ],
   "source": [
    "print(X.shape)\n",
    "print(y.shape)"
   ]
  },
  {
   "cell_type": "code",
   "execution_count": 87,
   "metadata": {},
   "outputs": [
    {
     "data": {
      "text/plain": [
       "date\n",
       "2011-12-31    1\n",
       "2012-01-01    0\n",
       "2012-01-02    1\n",
       "2012-01-03    1\n",
       "2012-01-04    1\n",
       "2012-01-05    0\n",
       "2012-01-06    1\n",
       "2012-01-07    1\n",
       "2012-01-08    0\n",
       "2012-01-09    1\n",
       "2012-01-10    0\n",
       "2012-01-11    0\n",
       "2012-01-12    1\n",
       "2012-01-13    0\n",
       "2012-01-14    1\n",
       "2012-01-15    0\n",
       "Freq: D, Name: buy, dtype: int64"
      ]
     },
     "execution_count": 87,
     "metadata": {},
     "output_type": "execute_result"
    }
   ],
   "source": [
    "\"\"\"\n",
    "should I buy or sell that day\n",
    "1 = buy\n",
    "0=sell\n",
    "\n",
    "use X to make a model to predcit whether we should buy or sell.\n",
    "\"\"\"\n",
    "y"
   ]
  },
  {
   "cell_type": "code",
   "execution_count": 89,
   "metadata": {},
   "outputs": [],
   "source": [
    "from sklearn.model_selection import train_test_split\n",
    "X_train, X_test, y_train, y_test = train_test_split(X, y, test_size=0.3, random_state=42)"
   ]
  },
  {
   "cell_type": "code",
   "execution_count": 91,
   "metadata": {},
   "outputs": [
    {
     "name": "stdout",
     "output_type": "stream",
     "text": [
      "(10, 8)\n",
      "(10,)\n",
      "(6, 8)\n",
      "(6,)\n"
     ]
    }
   ],
   "source": [
    "print(X_train.shape)\n",
    "print(y_train.shape)\n",
    "print(X_test.shape)\n",
    "print(y_test.shape)"
   ]
  },
  {
   "cell_type": "code",
   "execution_count": 108,
   "metadata": {},
   "outputs": [
    {
     "name": "stdout",
     "output_type": "stream",
     "text": [
      "Score on train subset: 1.0\n",
      "Score on train subset: 0.3333333333333333\n"
     ]
    }
   ],
   "source": [
    "\"\"\"\n",
    "train subset is overfitting, it's not generalizing to data it hasn't seen before.\n",
    "\n",
    "score is the R2 method\n",
    "   returns the mean accuracy on the test data and labels\n",
    "\"\"\"\n",
    "\n",
    "from sklearn.ensemble import RandomForestClassifier\n",
    "rf1 = RandomForestClassifier(random_state=42)\n",
    "rf1.fit(X_train,y_train)\n",
    "print('Score on train subset: {}'.format(rf1.score(X_train,y_train)))\n",
    "print('Score on train subset: {}'.format(rf1.score(X_test,y_test)))     "
   ]
  },
  {
   "cell_type": "code",
   "execution_count": null,
   "metadata": {},
   "outputs": [],
   "source": [
    "#ROCAUC curve\n"
   ]
  }
 ],
 "metadata": {
  "kernelspec": {
   "display_name": "Python 3",
   "language": "python",
   "name": "python3"
  },
  "language_info": {
   "codemirror_mode": {
    "name": "ipython",
    "version": 3
   },
   "file_extension": ".py",
   "mimetype": "text/x-python",
   "name": "python",
   "nbconvert_exporter": "python",
   "pygments_lexer": "ipython3",
   "version": "3.6.8"
  }
 },
 "nbformat": 4,
 "nbformat_minor": 2
}
